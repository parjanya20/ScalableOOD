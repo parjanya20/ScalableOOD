{
 "cells": [
  {
   "cell_type": "code",
   "execution_count": 1,
   "metadata": {},
   "outputs": [
    {
     "name": "stderr",
     "output_type": "stream",
     "text": [
      "2025-02-27 18:33:00.579567: I tensorflow/core/util/port.cc:110] oneDNN custom operations are on. You may see slightly different numerical results due to floating-point round-off errors from different computation orders. To turn them off, set the environment variable `TF_ENABLE_ONEDNN_OPTS=0`.\n",
      "2025-02-27 18:33:00.581835: I tensorflow/tsl/cuda/cudart_stub.cc:28] Could not find cuda drivers on your machine, GPU will not be used.\n",
      "2025-02-27 18:33:00.626364: I tensorflow/tsl/cuda/cudart_stub.cc:28] Could not find cuda drivers on your machine, GPU will not be used.\n",
      "2025-02-27 18:33:00.626906: I tensorflow/core/platform/cpu_feature_guard.cc:182] This TensorFlow binary is optimized to use available CPU instructions in performance-critical operations.\n",
      "To enable the following instructions: AVX2 AVX512F AVX512_VNNI FMA, in other operations, rebuild TensorFlow with the appropriate compiler flags.\n",
      "2025-02-27 18:33:01.348191: W tensorflow/compiler/tf2tensorrt/utils/py_utils.cc:38] TF-TRT Warning: Could not find TensorRT\n"
     ]
    }
   ],
   "source": [
    "import numpy as np\n",
    "import tensorflow as tf\n",
    "from src import get_latent, latent_shift, moe, train_model"
   ]
  },
  {
   "cell_type": "code",
   "execution_count": 2,
   "metadata": {},
   "outputs": [
    {
     "name": "stdout",
     "output_type": "stream",
     "text": [
      "X.shape = (25000, 3), y.shape = (25000, 1), s.shape = (25000,), e.shape = (25000,), t.shape = (25000,)\n"
     ]
    }
   ],
   "source": [
    "#Load your data \n",
    "#X - input features, y - labels, s - sensitive features, e - environment (latent) labels, t - train = 0, test = 1\n",
    "loaded_data = np.load('synthetic_data/synthetic_data_proxy.npz')\n",
    "X = loaded_data['X']\n",
    "y = loaded_data['y']\n",
    "s = loaded_data['s']\n",
    "e = loaded_data['e']\n",
    "t = loaded_data['t']\n",
    "\n",
    "print('X.shape = {}, y.shape = {}, s.shape = {}, e.shape = {}, t.shape = {}'.format(X.shape, y.shape, s.shape, e.shape, t.shape))\n",
    "\n",
    "#Convert s and e to one hot\n",
    "s1 = tf.keras.utils.to_categorical(s)\n",
    "e1 = tf.keras.utils.to_categorical(e)"
   ]
  },
  {
   "cell_type": "code",
   "execution_count": 4,
   "metadata": {},
   "outputs": [
    {
     "name": "stdout",
     "output_type": "stream",
     "text": [
      "[[0.33333334 0.33333334 0.33333334]\n",
      " [0.33333334 0.33333334 0.33333334]\n",
      " [0.33333334 0.33333334 0.33333334]]\n",
      "Epoch 1/100\n",
      "18/22 [=======================>......] - ETA: 0s - loss: 1.0977 - accuracy: 0.5017 \n",
      "Epoch 1: loss improved from inf to 1.09751, saving model to trial\n",
      "INFO:tensorflow:Assets written to: trial/assets\n"
     ]
    },
    {
     "name": "stderr",
     "output_type": "stream",
     "text": [
      "INFO:tensorflow:Assets written to: trial/assets\n"
     ]
    },
    {
     "name": "stdout",
     "output_type": "stream",
     "text": [
      "22/22 [==============================] - 2s 56ms/step - loss: 1.0975 - accuracy: 0.5024 - val_loss: 1.0989 - val_accuracy: 0.3336\n",
      "Epoch 2/100\n",
      "19/22 [========================>.....] - ETA: 0s - loss: 1.0954 - accuracy: 0.5104\n",
      "Epoch 2: loss improved from 1.09751 to 1.09524, saving model to trial\n",
      "INFO:tensorflow:Assets written to: trial/assets\n"
     ]
    },
    {
     "name": "stderr",
     "output_type": "stream",
     "text": [
      "INFO:tensorflow:Assets written to: trial/assets\n"
     ]
    },
    {
     "name": "stdout",
     "output_type": "stream",
     "text": [
      "22/22 [==============================] - 1s 35ms/step - loss: 1.0952 - accuracy: 0.5115 - val_loss: 1.0993 - val_accuracy: 0.3336\n",
      "Epoch 3/100\n",
      "19/22 [========================>.....] - ETA: 0s - loss: 1.0931 - accuracy: 0.5108\n",
      "Epoch 3: loss improved from 1.09524 to 1.09288, saving model to trial\n",
      "INFO:tensorflow:Assets written to: trial/assets\n"
     ]
    },
    {
     "name": "stderr",
     "output_type": "stream",
     "text": [
      "INFO:tensorflow:Assets written to: trial/assets\n"
     ]
    },
    {
     "name": "stdout",
     "output_type": "stream",
     "text": [
      "22/22 [==============================] - 1s 33ms/step - loss: 1.0929 - accuracy: 0.5115 - val_loss: 1.0999 - val_accuracy: 0.3336\n",
      "Epoch 4/100\n",
      "20/22 [==========================>...] - ETA: 0s - loss: 1.0904 - accuracy: 0.5111\n",
      "Epoch 4: loss improved from 1.09288 to 1.09022, saving model to trial\n",
      "INFO:tensorflow:Assets written to: trial/assets\n"
     ]
    },
    {
     "name": "stderr",
     "output_type": "stream",
     "text": [
      "INFO:tensorflow:Assets written to: trial/assets\n"
     ]
    },
    {
     "name": "stdout",
     "output_type": "stream",
     "text": [
      "22/22 [==============================] - 1s 38ms/step - loss: 1.0902 - accuracy: 0.5115 - val_loss: 1.1005 - val_accuracy: 0.3336\n",
      "Epoch 5/100\n",
      "16/22 [====================>.........] - ETA: 0s - loss: 1.0875 - accuracy: 0.5123\n",
      "Epoch 5: loss improved from 1.09022 to 1.08710, saving model to trial\n",
      "INFO:tensorflow:Assets written to: trial/assets\n"
     ]
    },
    {
     "name": "stderr",
     "output_type": "stream",
     "text": [
      "INFO:tensorflow:Assets written to: trial/assets\n"
     ]
    },
    {
     "name": "stdout",
     "output_type": "stream",
     "text": [
      "22/22 [==============================] - 1s 46ms/step - loss: 1.0871 - accuracy: 0.5115 - val_loss: 1.1010 - val_accuracy: 0.3336\n",
      "Epoch 6/100\n",
      "18/22 [=======================>......] - ETA: 0s - loss: 1.0838 - accuracy: 0.5150\n",
      "Epoch 6: loss improved from 1.08710 to 1.08368, saving model to trial\n",
      "INFO:tensorflow:Assets written to: trial/assets\n"
     ]
    },
    {
     "name": "stderr",
     "output_type": "stream",
     "text": [
      "INFO:tensorflow:Assets written to: trial/assets\n"
     ]
    },
    {
     "name": "stdout",
     "output_type": "stream",
     "text": [
      "22/22 [==============================] - 1s 40ms/step - loss: 1.0837 - accuracy: 0.5115 - val_loss: 1.1016 - val_accuracy: 0.3336\n",
      "Epoch 7/100\n",
      "11/22 [==============>...............] - ETA: 0s - loss: 1.0811 - accuracy: 0.5090\n",
      "Epoch 7: loss improved from 1.08368 to 1.08005, saving model to trial\n",
      "INFO:tensorflow:Assets written to: trial/assets\n"
     ]
    },
    {
     "name": "stderr",
     "output_type": "stream",
     "text": [
      "INFO:tensorflow:Assets written to: trial/assets\n"
     ]
    },
    {
     "name": "stdout",
     "output_type": "stream",
     "text": [
      "22/22 [==============================] - 1s 34ms/step - loss: 1.0801 - accuracy: 0.5115 - val_loss: 1.1018 - val_accuracy: 0.3336\n",
      "Epoch 8/100\n",
      "18/22 [=======================>......] - ETA: 0s - loss: 1.0765 - accuracy: 0.5128\n",
      "Epoch 8: loss improved from 1.08005 to 1.07619, saving model to trial\n",
      "INFO:tensorflow:Assets written to: trial/assets\n"
     ]
    },
    {
     "name": "stderr",
     "output_type": "stream",
     "text": [
      "INFO:tensorflow:Assets written to: trial/assets\n"
     ]
    },
    {
     "name": "stdout",
     "output_type": "stream",
     "text": [
      "22/22 [==============================] - 1s 34ms/step - loss: 1.0762 - accuracy: 0.5097 - val_loss: 1.1020 - val_accuracy: 0.3336\n",
      "Epoch 9/100\n",
      "19/22 [========================>.....] - ETA: 0s - loss: 1.0725 - accuracy: 0.4718\n",
      "Epoch 9: loss improved from 1.07619 to 1.07224, saving model to trial\n",
      "INFO:tensorflow:Assets written to: trial/assets\n"
     ]
    },
    {
     "name": "stderr",
     "output_type": "stream",
     "text": [
      "INFO:tensorflow:Assets written to: trial/assets\n"
     ]
    },
    {
     "name": "stdout",
     "output_type": "stream",
     "text": [
      "22/22 [==============================] - 1s 32ms/step - loss: 1.0722 - accuracy: 0.4730 - val_loss: 1.1015 - val_accuracy: 0.3312\n",
      "Epoch 10/100\n",
      "20/22 [==========================>...] - ETA: 0s - loss: 1.0686 - accuracy: 0.4977\n",
      "Epoch 10: loss improved from 1.07224 to 1.06832, saving model to trial\n",
      "INFO:tensorflow:Assets written to: trial/assets\n"
     ]
    },
    {
     "name": "stderr",
     "output_type": "stream",
     "text": [
      "INFO:tensorflow:Assets written to: trial/assets\n"
     ]
    },
    {
     "name": "stdout",
     "output_type": "stream",
     "text": [
      "22/22 [==============================] - 1s 33ms/step - loss: 1.0683 - accuracy: 0.5003 - val_loss: 1.1010 - val_accuracy: 0.2628\n",
      "Epoch 11/100\n",
      "19/22 [========================>.....] - ETA: 0s - loss: 1.0647 - accuracy: 0.5269\n",
      "Epoch 11: loss improved from 1.06832 to 1.06453, saving model to trial\n",
      "INFO:tensorflow:Assets written to: trial/assets\n"
     ]
    },
    {
     "name": "stderr",
     "output_type": "stream",
     "text": [
      "INFO:tensorflow:Assets written to: trial/assets\n"
     ]
    },
    {
     "name": "stdout",
     "output_type": "stream",
     "text": [
      "22/22 [==============================] - 1s 32ms/step - loss: 1.0645 - accuracy: 0.5285 - val_loss: 1.0997 - val_accuracy: 0.1792\n",
      "Epoch 12/100\n",
      "13/22 [================>.............] - ETA: 0s - loss: 1.0611 - accuracy: 0.5519\n",
      "Epoch 12: loss improved from 1.06453 to 1.06079, saving model to trial\n",
      "INFO:tensorflow:Assets written to: trial/assets\n"
     ]
    },
    {
     "name": "stderr",
     "output_type": "stream",
     "text": [
      "INFO:tensorflow:Assets written to: trial/assets\n"
     ]
    },
    {
     "name": "stdout",
     "output_type": "stream",
     "text": [
      "22/22 [==============================] - 1s 36ms/step - loss: 1.0608 - accuracy: 0.5488 - val_loss: 1.0986 - val_accuracy: 0.1476\n",
      "Epoch 13/100\n",
      "19/22 [========================>.....] - ETA: 0s - loss: 1.0573 - accuracy: 0.5639\n",
      "Epoch 13: loss improved from 1.06079 to 1.05711, saving model to trial\n",
      "INFO:tensorflow:Assets written to: trial/assets\n"
     ]
    },
    {
     "name": "stderr",
     "output_type": "stream",
     "text": [
      "INFO:tensorflow:Assets written to: trial/assets\n"
     ]
    },
    {
     "name": "stdout",
     "output_type": "stream",
     "text": [
      "22/22 [==============================] - 1s 34ms/step - loss: 1.0571 - accuracy: 0.5636 - val_loss: 1.0971 - val_accuracy: 0.1432\n",
      "Epoch 14/100\n",
      "19/22 [========================>.....] - ETA: 0s - loss: 1.0540 - accuracy: 0.5709\n",
      "Epoch 14: loss improved from 1.05711 to 1.05350, saving model to trial\n",
      "INFO:tensorflow:Assets written to: trial/assets\n"
     ]
    },
    {
     "name": "stderr",
     "output_type": "stream",
     "text": [
      "INFO:tensorflow:Assets written to: trial/assets\n"
     ]
    },
    {
     "name": "stdout",
     "output_type": "stream",
     "text": [
      "22/22 [==============================] - 1s 34ms/step - loss: 1.0535 - accuracy: 0.5725 - val_loss: 1.0953 - val_accuracy: 0.1520\n",
      "Epoch 15/100\n",
      "18/22 [=======================>......] - ETA: 0s - loss: 1.0503 - accuracy: 0.5794\n",
      "Epoch 15: loss improved from 1.05350 to 1.04992, saving model to trial\n",
      "INFO:tensorflow:Assets written to: trial/assets\n"
     ]
    },
    {
     "name": "stderr",
     "output_type": "stream",
     "text": [
      "INFO:tensorflow:Assets written to: trial/assets\n"
     ]
    },
    {
     "name": "stdout",
     "output_type": "stream",
     "text": [
      "22/22 [==============================] - 1s 34ms/step - loss: 1.0499 - accuracy: 0.5787 - val_loss: 1.0937 - val_accuracy: 0.1632\n",
      "Epoch 16/100\n",
      "16/22 [====================>.........] - ETA: 0s - loss: 1.0468 - accuracy: 0.5840\n",
      "Epoch 16: loss improved from 1.04992 to 1.04640, saving model to trial\n",
      "INFO:tensorflow:Assets written to: trial/assets\n"
     ]
    },
    {
     "name": "stderr",
     "output_type": "stream",
     "text": [
      "INFO:tensorflow:Assets written to: trial/assets\n"
     ]
    },
    {
     "name": "stdout",
     "output_type": "stream",
     "text": [
      "22/22 [==============================] - 1s 54ms/step - loss: 1.0464 - accuracy: 0.5848 - val_loss: 1.0917 - val_accuracy: 0.1704\n",
      "Epoch 17/100\n",
      "14/22 [==================>...........] - ETA: 0s - loss: 1.0434 - accuracy: 0.5919\n",
      "Epoch 17: loss improved from 1.04640 to 1.04294, saving model to trial\n",
      "INFO:tensorflow:Assets written to: trial/assets\n"
     ]
    },
    {
     "name": "stderr",
     "output_type": "stream",
     "text": [
      "INFO:tensorflow:Assets written to: trial/assets\n"
     ]
    },
    {
     "name": "stdout",
     "output_type": "stream",
     "text": [
      "22/22 [==============================] - 1s 33ms/step - loss: 1.0429 - accuracy: 0.5904 - val_loss: 1.0904 - val_accuracy: 0.1752\n",
      "Epoch 18/100\n",
      "15/22 [===================>..........] - ETA: 0s - loss: 1.0406 - accuracy: 0.5906\n",
      "Epoch 18: loss improved from 1.04294 to 1.03948, saving model to trial\n",
      "INFO:tensorflow:Assets written to: trial/assets\n"
     ]
    },
    {
     "name": "stderr",
     "output_type": "stream",
     "text": [
      "INFO:tensorflow:Assets written to: trial/assets\n"
     ]
    },
    {
     "name": "stdout",
     "output_type": "stream",
     "text": [
      "22/22 [==============================] - 1s 36ms/step - loss: 1.0395 - accuracy: 0.5939 - val_loss: 1.0886 - val_accuracy: 0.1848\n",
      "Epoch 19/100\n",
      "17/22 [======================>.......] - ETA: 0s - loss: 1.0359 - accuracy: 0.6004\n",
      "Epoch 19: loss improved from 1.03948 to 1.03608, saving model to trial\n",
      "INFO:tensorflow:Assets written to: trial/assets\n"
     ]
    },
    {
     "name": "stderr",
     "output_type": "stream",
     "text": [
      "INFO:tensorflow:Assets written to: trial/assets\n"
     ]
    },
    {
     "name": "stdout",
     "output_type": "stream",
     "text": [
      "22/22 [==============================] - 1s 32ms/step - loss: 1.0361 - accuracy: 0.5963 - val_loss: 1.0874 - val_accuracy: 0.1896\n",
      "Epoch 20/100\n",
      "19/22 [========================>.....] - ETA: 0s - loss: 1.0328 - accuracy: 0.5976\n",
      "Epoch 20: loss improved from 1.03608 to 1.03272, saving model to trial\n",
      "INFO:tensorflow:Assets written to: trial/assets\n"
     ]
    },
    {
     "name": "stderr",
     "output_type": "stream",
     "text": [
      "INFO:tensorflow:Assets written to: trial/assets\n"
     ]
    },
    {
     "name": "stdout",
     "output_type": "stream",
     "text": [
      "22/22 [==============================] - 1s 32ms/step - loss: 1.0327 - accuracy: 0.5985 - val_loss: 1.0854 - val_accuracy: 0.1996\n",
      "Epoch 21/100\n",
      "16/22 [====================>.........] - ETA: 0s - loss: 1.0298 - accuracy: 0.6021\n",
      "Epoch 21: loss improved from 1.03272 to 1.02934, saving model to trial\n",
      "INFO:tensorflow:Assets written to: trial/assets\n"
     ]
    },
    {
     "name": "stderr",
     "output_type": "stream",
     "text": [
      "INFO:tensorflow:Assets written to: trial/assets\n"
     ]
    },
    {
     "name": "stdout",
     "output_type": "stream",
     "text": [
      "22/22 [==============================] - 1s 36ms/step - loss: 1.0293 - accuracy: 0.6016 - val_loss: 1.0843 - val_accuracy: 0.2004\n",
      "Epoch 22/100\n",
      "20/22 [==========================>...] - ETA: 0s - loss: 1.0261 - accuracy: 0.6041\n",
      "Epoch 22: loss improved from 1.02934 to 1.02599, saving model to trial\n",
      "INFO:tensorflow:Assets written to: trial/assets\n"
     ]
    },
    {
     "name": "stderr",
     "output_type": "stream",
     "text": [
      "INFO:tensorflow:Assets written to: trial/assets\n"
     ]
    },
    {
     "name": "stdout",
     "output_type": "stream",
     "text": [
      "22/22 [==============================] - 1s 32ms/step - loss: 1.0260 - accuracy: 0.6045 - val_loss: 1.0830 - val_accuracy: 0.2084\n",
      "Epoch 23/100\n",
      "21/22 [===========================>..] - ETA: 0s - loss: 1.0228 - accuracy: 0.6054\n",
      "Epoch 23: loss improved from 1.02599 to 1.02269, saving model to trial\n",
      "INFO:tensorflow:Assets written to: trial/assets\n"
     ]
    },
    {
     "name": "stderr",
     "output_type": "stream",
     "text": [
      "INFO:tensorflow:Assets written to: trial/assets\n"
     ]
    },
    {
     "name": "stdout",
     "output_type": "stream",
     "text": [
      "22/22 [==============================] - 1s 34ms/step - loss: 1.0227 - accuracy: 0.6054 - val_loss: 1.0821 - val_accuracy: 0.2116\n",
      "Epoch 24/100\n",
      "20/22 [==========================>...] - ETA: 0s - loss: 1.0198 - accuracy: 0.6079\n",
      "Epoch 24: loss improved from 1.02269 to 1.01944, saving model to trial\n",
      "INFO:tensorflow:Assets written to: trial/assets\n"
     ]
    },
    {
     "name": "stderr",
     "output_type": "stream",
     "text": [
      "INFO:tensorflow:Assets written to: trial/assets\n"
     ]
    },
    {
     "name": "stdout",
     "output_type": "stream",
     "text": [
      "22/22 [==============================] - 1s 36ms/step - loss: 1.0194 - accuracy: 0.6072 - val_loss: 1.0808 - val_accuracy: 0.2156\n",
      "Epoch 25/100\n",
      "17/22 [======================>.......] - ETA: 0s - loss: 1.0163 - accuracy: 0.6085\n",
      "Epoch 25: loss improved from 1.01944 to 1.01621, saving model to trial\n",
      "INFO:tensorflow:Assets written to: trial/assets\n"
     ]
    },
    {
     "name": "stderr",
     "output_type": "stream",
     "text": [
      "INFO:tensorflow:Assets written to: trial/assets\n"
     ]
    },
    {
     "name": "stdout",
     "output_type": "stream",
     "text": [
      "22/22 [==============================] - 1s 33ms/step - loss: 1.0162 - accuracy: 0.6088 - val_loss: 1.0800 - val_accuracy: 0.2164\n",
      "Epoch 26/100\n",
      "12/22 [===============>..............] - ETA: 0s - loss: 1.0141 - accuracy: 0.6055\n",
      "Epoch 26: loss improved from 1.01621 to 1.01298, saving model to trial\n",
      "INFO:tensorflow:Assets written to: trial/assets\n"
     ]
    },
    {
     "name": "stderr",
     "output_type": "stream",
     "text": [
      "INFO:tensorflow:Assets written to: trial/assets\n"
     ]
    },
    {
     "name": "stdout",
     "output_type": "stream",
     "text": [
      "22/22 [==============================] - 1s 36ms/step - loss: 1.0130 - accuracy: 0.6112 - val_loss: 1.0787 - val_accuracy: 0.2196\n",
      "Epoch 27/100\n",
      " 8/22 [=========>....................] - ETA: 0s - loss: 1.0104 - accuracy: 0.6133\n",
      "Epoch 27: loss improved from 1.01298 to 1.00978, saving model to trial\n",
      "INFO:tensorflow:Assets written to: trial/assets\n"
     ]
    },
    {
     "name": "stderr",
     "output_type": "stream",
     "text": [
      "INFO:tensorflow:Assets written to: trial/assets\n"
     ]
    },
    {
     "name": "stdout",
     "output_type": "stream",
     "text": [
      "22/22 [==============================] - 1s 36ms/step - loss: 1.0098 - accuracy: 0.6121 - val_loss: 1.0781 - val_accuracy: 0.2196\n",
      "Epoch 28/100\n",
      "19/22 [========================>.....] - ETA: 0s - loss: 1.0069 - accuracy: 0.6114\n",
      "Epoch 28: loss improved from 1.00978 to 1.00660, saving model to trial\n",
      "INFO:tensorflow:Assets written to: trial/assets\n"
     ]
    },
    {
     "name": "stderr",
     "output_type": "stream",
     "text": [
      "INFO:tensorflow:Assets written to: trial/assets\n"
     ]
    },
    {
     "name": "stdout",
     "output_type": "stream",
     "text": [
      "22/22 [==============================] - 1s 36ms/step - loss: 1.0066 - accuracy: 0.6129 - val_loss: 1.0772 - val_accuracy: 0.2220\n",
      "Epoch 29/100\n",
      "20/22 [==========================>...] - ETA: 0s - loss: 1.0039 - accuracy: 0.6124\n",
      "Epoch 29: loss improved from 1.00660 to 1.00353, saving model to trial\n",
      "INFO:tensorflow:Assets written to: trial/assets\n"
     ]
    },
    {
     "name": "stderr",
     "output_type": "stream",
     "text": [
      "INFO:tensorflow:Assets written to: trial/assets\n"
     ]
    },
    {
     "name": "stdout",
     "output_type": "stream",
     "text": [
      "22/22 [==============================] - 1s 35ms/step - loss: 1.0035 - accuracy: 0.6137 - val_loss: 1.0767 - val_accuracy: 0.2244\n",
      "Epoch 30/100\n",
      "15/22 [===================>..........] - ETA: 0s - loss: 1.0007 - accuracy: 0.6147\n",
      "Epoch 30: loss improved from 1.00353 to 1.00044, saving model to trial\n",
      "INFO:tensorflow:Assets written to: trial/assets\n"
     ]
    },
    {
     "name": "stderr",
     "output_type": "stream",
     "text": [
      "INFO:tensorflow:Assets written to: trial/assets\n"
     ]
    },
    {
     "name": "stdout",
     "output_type": "stream",
     "text": [
      "22/22 [==============================] - 1s 38ms/step - loss: 1.0004 - accuracy: 0.6156 - val_loss: 1.0756 - val_accuracy: 0.2276\n",
      "Epoch 31/100\n",
      "14/22 [==================>...........] - ETA: 0s - loss: 0.9979 - accuracy: 0.6137\n",
      "Epoch 31: loss improved from 1.00044 to 0.99733, saving model to trial\n",
      "INFO:tensorflow:Assets written to: trial/assets\n"
     ]
    },
    {
     "name": "stderr",
     "output_type": "stream",
     "text": [
      "INFO:tensorflow:Assets written to: trial/assets\n"
     ]
    },
    {
     "name": "stdout",
     "output_type": "stream",
     "text": [
      "22/22 [==============================] - 2s 102ms/step - loss: 0.9973 - accuracy: 0.6167 - val_loss: 1.0753 - val_accuracy: 0.2252\n",
      "Epoch 32/100\n",
      "20/22 [==========================>...] - ETA: 0s - loss: 0.9943 - accuracy: 0.6178\n",
      "Epoch 32: loss improved from 0.99733 to 0.99424, saving model to trial\n",
      "INFO:tensorflow:Assets written to: trial/assets\n"
     ]
    },
    {
     "name": "stderr",
     "output_type": "stream",
     "text": [
      "INFO:tensorflow:Assets written to: trial/assets\n"
     ]
    },
    {
     "name": "stdout",
     "output_type": "stream",
     "text": [
      "22/22 [==============================] - 1s 36ms/step - loss: 0.9942 - accuracy: 0.6174 - val_loss: 1.0747 - val_accuracy: 0.2276\n",
      "Epoch 33/100\n",
      "20/22 [==========================>...] - ETA: 0s - loss: 0.9919 - accuracy: 0.6174\n",
      "Epoch 33: loss improved from 0.99424 to 0.99122, saving model to trial\n",
      "INFO:tensorflow:Assets written to: trial/assets\n"
     ]
    },
    {
     "name": "stderr",
     "output_type": "stream",
     "text": [
      "INFO:tensorflow:Assets written to: trial/assets\n"
     ]
    },
    {
     "name": "stdout",
     "output_type": "stream",
     "text": [
      "22/22 [==============================] - 1s 32ms/step - loss: 0.9912 - accuracy: 0.6182 - val_loss: 1.0742 - val_accuracy: 0.2316\n",
      "Epoch 34/100\n",
      "19/22 [========================>.....] - ETA: 0s - loss: 0.9888 - accuracy: 0.6170\n",
      "Epoch 34: loss improved from 0.99122 to 0.98832, saving model to trial\n",
      "INFO:tensorflow:Assets written to: trial/assets\n"
     ]
    },
    {
     "name": "stderr",
     "output_type": "stream",
     "text": [
      "INFO:tensorflow:Assets written to: trial/assets\n"
     ]
    },
    {
     "name": "stdout",
     "output_type": "stream",
     "text": [
      "22/22 [==============================] - 1s 31ms/step - loss: 0.9883 - accuracy: 0.6192 - val_loss: 1.0736 - val_accuracy: 0.2300\n",
      "Epoch 35/100\n",
      "21/22 [===========================>..] - ETA: 0s - loss: 0.9850 - accuracy: 0.6229\n",
      "Epoch 35: loss improved from 0.98832 to 0.98533, saving model to trial\n",
      "INFO:tensorflow:Assets written to: trial/assets\n"
     ]
    },
    {
     "name": "stderr",
     "output_type": "stream",
     "text": [
      "INFO:tensorflow:Assets written to: trial/assets\n"
     ]
    },
    {
     "name": "stdout",
     "output_type": "stream",
     "text": [
      "22/22 [==============================] - 1s 36ms/step - loss: 0.9853 - accuracy: 0.6213 - val_loss: 1.0734 - val_accuracy: 0.2284\n",
      "Epoch 36/100\n",
      "19/22 [========================>.....] - ETA: 0s - loss: 0.9824 - accuracy: 0.6190\n",
      "Epoch 36: loss improved from 0.98533 to 0.98230, saving model to trial\n",
      "INFO:tensorflow:Assets written to: trial/assets\n"
     ]
    },
    {
     "name": "stderr",
     "output_type": "stream",
     "text": [
      "INFO:tensorflow:Assets written to: trial/assets\n"
     ]
    },
    {
     "name": "stdout",
     "output_type": "stream",
     "text": [
      "22/22 [==============================] - 1s 34ms/step - loss: 0.9823 - accuracy: 0.6204 - val_loss: 1.0723 - val_accuracy: 0.2304\n",
      "Epoch 37/100\n",
      "19/22 [========================>.....] - ETA: 0s - loss: 0.9799 - accuracy: 0.6210\n",
      "Epoch 37: loss improved from 0.98230 to 0.97939, saving model to trial\n",
      "INFO:tensorflow:Assets written to: trial/assets\n"
     ]
    },
    {
     "name": "stderr",
     "output_type": "stream",
     "text": [
      "INFO:tensorflow:Assets written to: trial/assets\n"
     ]
    },
    {
     "name": "stdout",
     "output_type": "stream",
     "text": [
      "22/22 [==============================] - 1s 35ms/step - loss: 0.9794 - accuracy: 0.6211 - val_loss: 1.0727 - val_accuracy: 0.2288\n",
      "Epoch 38/100\n",
      "18/22 [=======================>......] - ETA: 0s - loss: 0.9770 - accuracy: 0.6222\n",
      "Epoch 38: loss improved from 0.97939 to 0.97651, saving model to trial\n",
      "INFO:tensorflow:Assets written to: trial/assets\n"
     ]
    },
    {
     "name": "stderr",
     "output_type": "stream",
     "text": [
      "INFO:tensorflow:Assets written to: trial/assets\n"
     ]
    },
    {
     "name": "stdout",
     "output_type": "stream",
     "text": [
      "22/22 [==============================] - 1s 38ms/step - loss: 0.9765 - accuracy: 0.6227 - val_loss: 1.0720 - val_accuracy: 0.2300\n",
      "Epoch 39/100\n",
      "10/22 [============>.................] - ETA: 0s - loss: 0.9737 - accuracy: 0.6229\n",
      "Epoch 39: loss improved from 0.97651 to 0.97370, saving model to trial\n",
      "INFO:tensorflow:Assets written to: trial/assets\n"
     ]
    },
    {
     "name": "stderr",
     "output_type": "stream",
     "text": [
      "INFO:tensorflow:Assets written to: trial/assets\n"
     ]
    },
    {
     "name": "stdout",
     "output_type": "stream",
     "text": [
      "22/22 [==============================] - 1s 39ms/step - loss: 0.9737 - accuracy: 0.6226 - val_loss: 1.0719 - val_accuracy: 0.2320\n",
      "Epoch 40/100\n",
      "22/22 [==============================] - ETA: 0s - loss: 0.9709 - accuracy: 0.6233\n",
      "Epoch 40: loss improved from 0.97370 to 0.97093, saving model to trial\n",
      "INFO:tensorflow:Assets written to: trial/assets\n"
     ]
    },
    {
     "name": "stderr",
     "output_type": "stream",
     "text": [
      "INFO:tensorflow:Assets written to: trial/assets\n"
     ]
    },
    {
     "name": "stdout",
     "output_type": "stream",
     "text": [
      "22/22 [==============================] - 1s 41ms/step - loss: 0.9709 - accuracy: 0.6233 - val_loss: 1.0717 - val_accuracy: 0.2292\n",
      "Epoch 41/100\n",
      "13/22 [================>.............] - ETA: 0s - loss: 0.9696 - accuracy: 0.6205\n",
      "Epoch 41: loss improved from 0.97093 to 0.96803, saving model to trial\n",
      "INFO:tensorflow:Assets written to: trial/assets\n"
     ]
    },
    {
     "name": "stderr",
     "output_type": "stream",
     "text": [
      "INFO:tensorflow:Assets written to: trial/assets\n"
     ]
    },
    {
     "name": "stdout",
     "output_type": "stream",
     "text": [
      "22/22 [==============================] - 1s 37ms/step - loss: 0.9680 - accuracy: 0.6231 - val_loss: 1.0708 - val_accuracy: 0.2320\n",
      "Epoch 42/100\n",
      "17/22 [======================>.......] - ETA: 0s - loss: 0.9663 - accuracy: 0.6232\n",
      "Epoch 42: loss improved from 0.96803 to 0.96519, saving model to trial\n",
      "INFO:tensorflow:Assets written to: trial/assets\n"
     ]
    },
    {
     "name": "stderr",
     "output_type": "stream",
     "text": [
      "INFO:tensorflow:Assets written to: trial/assets\n"
     ]
    },
    {
     "name": "stdout",
     "output_type": "stream",
     "text": [
      "22/22 [==============================] - 1s 36ms/step - loss: 0.9652 - accuracy: 0.6245 - val_loss: 1.0704 - val_accuracy: 0.2300\n",
      "Epoch 43/100\n",
      "15/22 [===================>..........] - ETA: 0s - loss: 0.9631 - accuracy: 0.6242\n",
      "Epoch 43: loss improved from 0.96519 to 0.96243, saving model to trial\n",
      "INFO:tensorflow:Assets written to: trial/assets\n"
     ]
    },
    {
     "name": "stderr",
     "output_type": "stream",
     "text": [
      "INFO:tensorflow:Assets written to: trial/assets\n"
     ]
    },
    {
     "name": "stdout",
     "output_type": "stream",
     "text": [
      "22/22 [==============================] - 1s 38ms/step - loss: 0.9624 - accuracy: 0.6249 - val_loss: 1.0702 - val_accuracy: 0.2304\n",
      "Epoch 44/100\n",
      "14/22 [==================>...........] - ETA: 0s - loss: 0.9593 - accuracy: 0.6290\n",
      "Epoch 44: loss improved from 0.96243 to 0.95970, saving model to trial\n",
      "INFO:tensorflow:Assets written to: trial/assets\n"
     ]
    },
    {
     "name": "stderr",
     "output_type": "stream",
     "text": [
      "INFO:tensorflow:Assets written to: trial/assets\n"
     ]
    },
    {
     "name": "stdout",
     "output_type": "stream",
     "text": [
      "22/22 [==============================] - 1s 39ms/step - loss: 0.9597 - accuracy: 0.6254 - val_loss: 1.0699 - val_accuracy: 0.2328\n",
      "Epoch 45/100\n",
      "12/22 [===============>..............] - ETA: 0s - loss: 0.9589 - accuracy: 0.6216\n",
      "Epoch 45: loss improved from 0.95970 to 0.95703, saving model to trial\n",
      "INFO:tensorflow:Assets written to: trial/assets\n"
     ]
    },
    {
     "name": "stderr",
     "output_type": "stream",
     "text": [
      "INFO:tensorflow:Assets written to: trial/assets\n"
     ]
    },
    {
     "name": "stdout",
     "output_type": "stream",
     "text": [
      "22/22 [==============================] - 1s 38ms/step - loss: 0.9570 - accuracy: 0.6256 - val_loss: 1.0694 - val_accuracy: 0.2316\n",
      "Epoch 46/100\n",
      "16/22 [====================>.........] - ETA: 0s - loss: 0.9542 - accuracy: 0.6279\n",
      "Epoch 46: loss improved from 0.95703 to 0.95426, saving model to trial\n",
      "INFO:tensorflow:Assets written to: trial/assets\n"
     ]
    },
    {
     "name": "stderr",
     "output_type": "stream",
     "text": [
      "INFO:tensorflow:Assets written to: trial/assets\n"
     ]
    },
    {
     "name": "stdout",
     "output_type": "stream",
     "text": [
      "22/22 [==============================] - 1s 37ms/step - loss: 0.9543 - accuracy: 0.6267 - val_loss: 1.0691 - val_accuracy: 0.2320\n",
      "Epoch 47/100\n",
      "16/22 [====================>.........] - ETA: 0s - loss: 0.9510 - accuracy: 0.6282\n",
      "Epoch 47: loss improved from 0.95426 to 0.95162, saving model to trial\n",
      "INFO:tensorflow:Assets written to: trial/assets\n"
     ]
    },
    {
     "name": "stderr",
     "output_type": "stream",
     "text": [
      "INFO:tensorflow:Assets written to: trial/assets\n"
     ]
    },
    {
     "name": "stdout",
     "output_type": "stream",
     "text": [
      "22/22 [==============================] - 1s 58ms/step - loss: 0.9516 - accuracy: 0.6263 - val_loss: 1.0687 - val_accuracy: 0.2312\n",
      "Epoch 48/100\n",
      "14/22 [==================>...........] - ETA: 0s - loss: 0.9498 - accuracy: 0.6250\n",
      "Epoch 48: loss improved from 0.95162 to 0.94895, saving model to trial\n",
      "INFO:tensorflow:Assets written to: trial/assets\n"
     ]
    },
    {
     "name": "stderr",
     "output_type": "stream",
     "text": [
      "INFO:tensorflow:Assets written to: trial/assets\n"
     ]
    },
    {
     "name": "stdout",
     "output_type": "stream",
     "text": [
      "22/22 [==============================] - 1s 41ms/step - loss: 0.9490 - accuracy: 0.6262 - val_loss: 1.0683 - val_accuracy: 0.2312\n",
      "Epoch 49/100\n",
      "12/22 [===============>..............] - ETA: 0s - loss: 0.9460 - accuracy: 0.6311\n",
      "Epoch 49: loss improved from 0.94895 to 0.94634, saving model to trial\n",
      "INFO:tensorflow:Assets written to: trial/assets\n"
     ]
    },
    {
     "name": "stderr",
     "output_type": "stream",
     "text": [
      "INFO:tensorflow:Assets written to: trial/assets\n"
     ]
    },
    {
     "name": "stdout",
     "output_type": "stream",
     "text": [
      "22/22 [==============================] - 1s 39ms/step - loss: 0.9463 - accuracy: 0.6264 - val_loss: 1.0680 - val_accuracy: 0.2312\n",
      "Epoch 50/100\n",
      "17/22 [======================>.......] - ETA: 0s - loss: 0.9437 - accuracy: 0.6280\n",
      "Epoch 50: loss improved from 0.94634 to 0.94386, saving model to trial\n",
      "INFO:tensorflow:Assets written to: trial/assets\n"
     ]
    },
    {
     "name": "stderr",
     "output_type": "stream",
     "text": [
      "INFO:tensorflow:Assets written to: trial/assets\n"
     ]
    },
    {
     "name": "stdout",
     "output_type": "stream",
     "text": [
      "22/22 [==============================] - 1s 39ms/step - loss: 0.9439 - accuracy: 0.6262 - val_loss: 1.0676 - val_accuracy: 0.2316\n",
      "Epoch 51/100\n",
      "13/22 [================>.............] - ETA: 0s - loss: 0.9407 - accuracy: 0.6251\n",
      "Epoch 51: loss improved from 0.94386 to 0.94119, saving model to trial\n",
      "INFO:tensorflow:Assets written to: trial/assets\n"
     ]
    },
    {
     "name": "stderr",
     "output_type": "stream",
     "text": [
      "INFO:tensorflow:Assets written to: trial/assets\n"
     ]
    },
    {
     "name": "stdout",
     "output_type": "stream",
     "text": [
      "22/22 [==============================] - 1s 41ms/step - loss: 0.9412 - accuracy: 0.6266 - val_loss: 1.0669 - val_accuracy: 0.2316\n",
      "Epoch 52/100\n",
      "16/22 [====================>.........] - ETA: 0s - loss: 0.9376 - accuracy: 0.6290\n",
      "Epoch 52: loss improved from 0.94119 to 0.93857, saving model to trial\n",
      "INFO:tensorflow:Assets written to: trial/assets\n"
     ]
    },
    {
     "name": "stderr",
     "output_type": "stream",
     "text": [
      "INFO:tensorflow:Assets written to: trial/assets\n"
     ]
    },
    {
     "name": "stdout",
     "output_type": "stream",
     "text": [
      "22/22 [==============================] - 1s 41ms/step - loss: 0.9386 - accuracy: 0.6276 - val_loss: 1.0664 - val_accuracy: 0.2328\n",
      "Epoch 53/100\n",
      "17/22 [======================>.......] - ETA: 0s - loss: 0.9367 - accuracy: 0.6268\n",
      "Epoch 53: loss improved from 0.93857 to 0.93601, saving model to trial\n",
      "INFO:tensorflow:Assets written to: trial/assets\n"
     ]
    },
    {
     "name": "stderr",
     "output_type": "stream",
     "text": [
      "INFO:tensorflow:Assets written to: trial/assets\n"
     ]
    },
    {
     "name": "stdout",
     "output_type": "stream",
     "text": [
      "22/22 [==============================] - 1s 41ms/step - loss: 0.9360 - accuracy: 0.6280 - val_loss: 1.0659 - val_accuracy: 0.2308\n",
      "Epoch 54/100\n",
      "21/22 [===========================>..] - ETA: 0s - loss: 0.9335 - accuracy: 0.6273\n",
      "Epoch 54: loss improved from 0.93601 to 0.93356, saving model to trial\n",
      "INFO:tensorflow:Assets written to: trial/assets\n"
     ]
    },
    {
     "name": "stderr",
     "output_type": "stream",
     "text": [
      "INFO:tensorflow:Assets written to: trial/assets\n"
     ]
    },
    {
     "name": "stdout",
     "output_type": "stream",
     "text": [
      "22/22 [==============================] - 1s 40ms/step - loss: 0.9336 - accuracy: 0.6274 - val_loss: 1.0653 - val_accuracy: 0.2324\n",
      "Epoch 55/100\n",
      "13/22 [================>.............] - ETA: 0s - loss: 0.9314 - accuracy: 0.6258\n",
      "Epoch 55: loss improved from 0.93356 to 0.93102, saving model to trial\n",
      "INFO:tensorflow:Assets written to: trial/assets\n"
     ]
    },
    {
     "name": "stderr",
     "output_type": "stream",
     "text": [
      "INFO:tensorflow:Assets written to: trial/assets\n"
     ]
    },
    {
     "name": "stdout",
     "output_type": "stream",
     "text": [
      "22/22 [==============================] - 1s 48ms/step - loss: 0.9310 - accuracy: 0.6268 - val_loss: 1.0646 - val_accuracy: 0.2332\n",
      "Epoch 56/100\n",
      "13/22 [================>.............] - ETA: 0s - loss: 0.9307 - accuracy: 0.6221\n",
      "Epoch 56: loss improved from 0.93102 to 0.92851, saving model to trial\n",
      "INFO:tensorflow:Assets written to: trial/assets\n"
     ]
    },
    {
     "name": "stderr",
     "output_type": "stream",
     "text": [
      "INFO:tensorflow:Assets written to: trial/assets\n"
     ]
    },
    {
     "name": "stdout",
     "output_type": "stream",
     "text": [
      "22/22 [==============================] - 1s 44ms/step - loss: 0.9285 - accuracy: 0.6272 - val_loss: 1.0642 - val_accuracy: 0.2320\n",
      "Epoch 57/100\n",
      "14/22 [==================>...........] - ETA: 0s - loss: 0.9272 - accuracy: 0.6279\n",
      "Epoch 57: loss improved from 0.92851 to 0.92602, saving model to trial\n",
      "INFO:tensorflow:Assets written to: trial/assets\n"
     ]
    },
    {
     "name": "stderr",
     "output_type": "stream",
     "text": [
      "INFO:tensorflow:Assets written to: trial/assets\n"
     ]
    },
    {
     "name": "stdout",
     "output_type": "stream",
     "text": [
      "22/22 [==============================] - 1s 44ms/step - loss: 0.9260 - accuracy: 0.6276 - val_loss: 1.0630 - val_accuracy: 0.2332\n",
      "Epoch 58/100\n",
      "18/22 [=======================>......] - ETA: 0s - loss: 0.9226 - accuracy: 0.6299\n",
      "Epoch 58: loss improved from 0.92602 to 0.92357, saving model to trial\n",
      "INFO:tensorflow:Assets written to: trial/assets\n"
     ]
    },
    {
     "name": "stderr",
     "output_type": "stream",
     "text": [
      "INFO:tensorflow:Assets written to: trial/assets\n"
     ]
    },
    {
     "name": "stdout",
     "output_type": "stream",
     "text": [
      "22/22 [==============================] - 1s 35ms/step - loss: 0.9236 - accuracy: 0.6267 - val_loss: 1.0628 - val_accuracy: 0.2320\n",
      "Epoch 59/100\n",
      "20/22 [==========================>...] - ETA: 0s - loss: 0.9212 - accuracy: 0.6267\n",
      "Epoch 59: loss improved from 0.92357 to 0.92096, saving model to trial\n",
      "INFO:tensorflow:Assets written to: trial/assets\n"
     ]
    },
    {
     "name": "stderr",
     "output_type": "stream",
     "text": [
      "INFO:tensorflow:Assets written to: trial/assets\n"
     ]
    },
    {
     "name": "stdout",
     "output_type": "stream",
     "text": [
      "22/22 [==============================] - 1s 35ms/step - loss: 0.9210 - accuracy: 0.6275 - val_loss: 1.0620 - val_accuracy: 0.2316\n",
      "Epoch 60/100\n",
      "19/22 [========================>.....] - ETA: 0s - loss: 0.9193 - accuracy: 0.6280\n",
      "Epoch 60: loss improved from 0.92096 to 0.91850, saving model to trial\n",
      "INFO:tensorflow:Assets written to: trial/assets\n"
     ]
    },
    {
     "name": "stderr",
     "output_type": "stream",
     "text": [
      "INFO:tensorflow:Assets written to: trial/assets\n"
     ]
    },
    {
     "name": "stdout",
     "output_type": "stream",
     "text": [
      "22/22 [==============================] - 1s 32ms/step - loss: 0.9185 - accuracy: 0.6285 - val_loss: 1.0613 - val_accuracy: 0.2324\n",
      "Epoch 61/100\n",
      "14/22 [==================>...........] - ETA: 0s - loss: 0.9152 - accuracy: 0.6320\n",
      "Epoch 61: loss improved from 0.91850 to 0.91611, saving model to trial\n",
      "INFO:tensorflow:Assets written to: trial/assets\n"
     ]
    },
    {
     "name": "stderr",
     "output_type": "stream",
     "text": [
      "INFO:tensorflow:Assets written to: trial/assets\n"
     ]
    },
    {
     "name": "stdout",
     "output_type": "stream",
     "text": [
      "22/22 [==============================] - 1s 40ms/step - loss: 0.9161 - accuracy: 0.6299 - val_loss: 1.0598 - val_accuracy: 0.2428\n",
      "Epoch 62/100\n",
      "20/22 [==========================>...] - ETA: 0s - loss: 0.9129 - accuracy: 0.6333\n",
      "Epoch 62: loss improved from 0.91611 to 0.91356, saving model to trial\n",
      "INFO:tensorflow:Assets written to: trial/assets\n"
     ]
    },
    {
     "name": "stderr",
     "output_type": "stream",
     "text": [
      "INFO:tensorflow:Assets written to: trial/assets\n"
     ]
    },
    {
     "name": "stdout",
     "output_type": "stream",
     "text": [
      "22/22 [==============================] - 1s 51ms/step - loss: 0.9136 - accuracy: 0.6322 - val_loss: 1.0593 - val_accuracy: 0.2496\n",
      "Epoch 63/100\n",
      "19/22 [========================>.....] - ETA: 0s - loss: 0.9109 - accuracy: 0.6376\n",
      "Epoch 63: loss improved from 0.91356 to 0.91101, saving model to trial\n",
      "INFO:tensorflow:Assets written to: trial/assets\n"
     ]
    },
    {
     "name": "stderr",
     "output_type": "stream",
     "text": [
      "INFO:tensorflow:Assets written to: trial/assets\n"
     ]
    },
    {
     "name": "stdout",
     "output_type": "stream",
     "text": [
      "22/22 [==============================] - 1s 32ms/step - loss: 0.9110 - accuracy: 0.6386 - val_loss: 1.0577 - val_accuracy: 0.2972\n",
      "Epoch 64/100\n",
      "10/22 [============>.................] - ETA: 0s - loss: 0.9104 - accuracy: 0.6507\n",
      "Epoch 64: loss improved from 0.91101 to 0.90871, saving model to trial\n",
      "INFO:tensorflow:Assets written to: trial/assets\n"
     ]
    },
    {
     "name": "stderr",
     "output_type": "stream",
     "text": [
      "INFO:tensorflow:Assets written to: trial/assets\n"
     ]
    },
    {
     "name": "stdout",
     "output_type": "stream",
     "text": [
      "22/22 [==============================] - 1s 33ms/step - loss: 0.9087 - accuracy: 0.6473 - val_loss: 1.0577 - val_accuracy: 0.3008\n",
      "Epoch 65/100\n",
      "19/22 [========================>.....] - ETA: 0s - loss: 0.9068 - accuracy: 0.6602\n",
      "Epoch 65: loss improved from 0.90871 to 0.90622, saving model to trial\n",
      "INFO:tensorflow:Assets written to: trial/assets\n"
     ]
    },
    {
     "name": "stderr",
     "output_type": "stream",
     "text": [
      "INFO:tensorflow:Assets written to: trial/assets\n"
     ]
    },
    {
     "name": "stdout",
     "output_type": "stream",
     "text": [
      "22/22 [==============================] - 1s 32ms/step - loss: 0.9062 - accuracy: 0.6618 - val_loss: 1.0563 - val_accuracy: 0.3748\n",
      "Epoch 66/100\n",
      "20/22 [==========================>...] - ETA: 0s - loss: 0.9043 - accuracy: 0.6791\n",
      "Epoch 66: loss improved from 0.90622 to 0.90368, saving model to trial\n",
      "INFO:tensorflow:Assets written to: trial/assets\n"
     ]
    },
    {
     "name": "stderr",
     "output_type": "stream",
     "text": [
      "INFO:tensorflow:Assets written to: trial/assets\n"
     ]
    },
    {
     "name": "stdout",
     "output_type": "stream",
     "text": [
      "22/22 [==============================] - 1s 32ms/step - loss: 0.9037 - accuracy: 0.6812 - val_loss: 1.0547 - val_accuracy: 0.4492\n",
      "Epoch 67/100\n",
      "17/22 [======================>.......] - ETA: 0s - loss: 0.9024 - accuracy: 0.6928\n",
      "Epoch 67: loss improved from 0.90368 to 0.90118, saving model to trial\n",
      "INFO:tensorflow:Assets written to: trial/assets\n"
     ]
    },
    {
     "name": "stderr",
     "output_type": "stream",
     "text": [
      "INFO:tensorflow:Assets written to: trial/assets\n"
     ]
    },
    {
     "name": "stdout",
     "output_type": "stream",
     "text": [
      "22/22 [==============================] - 1s 33ms/step - loss: 0.9012 - accuracy: 0.6960 - val_loss: 1.0532 - val_accuracy: 0.5064\n",
      "Epoch 68/100\n",
      "20/22 [==========================>...] - ETA: 0s - loss: 0.9007 - accuracy: 0.7052\n",
      "Epoch 68: loss improved from 0.90118 to 0.89864, saving model to trial\n",
      "INFO:tensorflow:Assets written to: trial/assets\n"
     ]
    },
    {
     "name": "stderr",
     "output_type": "stream",
     "text": [
      "INFO:tensorflow:Assets written to: trial/assets\n"
     ]
    },
    {
     "name": "stdout",
     "output_type": "stream",
     "text": [
      "22/22 [==============================] - 1s 32ms/step - loss: 0.8986 - accuracy: 0.7104 - val_loss: 1.0514 - val_accuracy: 0.5544\n",
      "Epoch 69/100\n",
      "22/22 [==============================] - ETA: 0s - loss: 0.8962 - accuracy: 0.7196\n",
      "Epoch 69: loss improved from 0.89864 to 0.89617, saving model to trial\n",
      "INFO:tensorflow:Assets written to: trial/assets\n"
     ]
    },
    {
     "name": "stderr",
     "output_type": "stream",
     "text": [
      "INFO:tensorflow:Assets written to: trial/assets\n"
     ]
    },
    {
     "name": "stdout",
     "output_type": "stream",
     "text": [
      "22/22 [==============================] - 1s 35ms/step - loss: 0.8962 - accuracy: 0.7196 - val_loss: 1.0503 - val_accuracy: 0.5656\n",
      "Epoch 70/100\n",
      "20/22 [==========================>...] - ETA: 0s - loss: 0.8933 - accuracy: 0.7267\n",
      "Epoch 70: loss improved from 0.89617 to 0.89372, saving model to trial\n",
      "INFO:tensorflow:Assets written to: trial/assets\n"
     ]
    },
    {
     "name": "stderr",
     "output_type": "stream",
     "text": [
      "INFO:tensorflow:Assets written to: trial/assets\n"
     ]
    },
    {
     "name": "stdout",
     "output_type": "stream",
     "text": [
      "22/22 [==============================] - 1s 41ms/step - loss: 0.8937 - accuracy: 0.7266 - val_loss: 1.0492 - val_accuracy: 0.5724\n",
      "Epoch 71/100\n",
      "18/22 [=======================>......] - ETA: 0s - loss: 0.8917 - accuracy: 0.7315\n",
      "Epoch 71: loss improved from 0.89372 to 0.89113, saving model to trial\n",
      "INFO:tensorflow:Assets written to: trial/assets\n"
     ]
    },
    {
     "name": "stderr",
     "output_type": "stream",
     "text": [
      "INFO:tensorflow:Assets written to: trial/assets\n"
     ]
    },
    {
     "name": "stdout",
     "output_type": "stream",
     "text": [
      "22/22 [==============================] - 1s 43ms/step - loss: 0.8911 - accuracy: 0.7328 - val_loss: 1.0469 - val_accuracy: 0.6056\n",
      "Epoch 72/100\n",
      "15/22 [===================>..........] - ETA: 0s - loss: 0.8871 - accuracy: 0.7415\n",
      "Epoch 72: loss improved from 0.89113 to 0.88856, saving model to trial\n",
      "INFO:tensorflow:Assets written to: trial/assets\n"
     ]
    },
    {
     "name": "stderr",
     "output_type": "stream",
     "text": [
      "INFO:tensorflow:Assets written to: trial/assets\n"
     ]
    },
    {
     "name": "stdout",
     "output_type": "stream",
     "text": [
      "22/22 [==============================] - 1s 35ms/step - loss: 0.8886 - accuracy: 0.7360 - val_loss: 1.0454 - val_accuracy: 0.6140\n",
      "Epoch 73/100\n",
      "14/22 [==================>...........] - ETA: 0s - loss: 0.8843 - accuracy: 0.7404\n",
      "Epoch 73: loss improved from 0.88856 to 0.88611, saving model to trial\n",
      "INFO:tensorflow:Assets written to: trial/assets\n"
     ]
    },
    {
     "name": "stderr",
     "output_type": "stream",
     "text": [
      "INFO:tensorflow:Assets written to: trial/assets\n"
     ]
    },
    {
     "name": "stdout",
     "output_type": "stream",
     "text": [
      "22/22 [==============================] - 1s 37ms/step - loss: 0.8861 - accuracy: 0.7392 - val_loss: 1.0432 - val_accuracy: 0.6320\n",
      "Epoch 74/100\n",
      "15/22 [===================>..........] - ETA: 0s - loss: 0.8844 - accuracy: 0.7417\n",
      "Epoch 74: loss improved from 0.88611 to 0.88316, saving model to trial\n",
      "INFO:tensorflow:Assets written to: trial/assets\n"
     ]
    },
    {
     "name": "stderr",
     "output_type": "stream",
     "text": [
      "INFO:tensorflow:Assets written to: trial/assets\n"
     ]
    },
    {
     "name": "stdout",
     "output_type": "stream",
     "text": [
      "22/22 [==============================] - 1s 38ms/step - loss: 0.8832 - accuracy: 0.7412 - val_loss: 1.0410 - val_accuracy: 0.6380\n",
      "Epoch 75/100\n",
      "21/22 [===========================>..] - ETA: 0s - loss: 0.8810 - accuracy: 0.7427\n",
      "Epoch 75: loss improved from 0.88316 to 0.88046, saving model to trial\n",
      "INFO:tensorflow:Assets written to: trial/assets\n"
     ]
    },
    {
     "name": "stderr",
     "output_type": "stream",
     "text": [
      "INFO:tensorflow:Assets written to: trial/assets\n"
     ]
    },
    {
     "name": "stdout",
     "output_type": "stream",
     "text": [
      "22/22 [==============================] - 1s 41ms/step - loss: 0.8805 - accuracy: 0.7436 - val_loss: 1.0390 - val_accuracy: 0.6460\n",
      "Epoch 76/100\n",
      "20/22 [==========================>...] - ETA: 0s - loss: 0.8783 - accuracy: 0.7444\n",
      "Epoch 76: loss improved from 0.88046 to 0.87780, saving model to trial\n",
      "INFO:tensorflow:Assets written to: trial/assets\n"
     ]
    },
    {
     "name": "stderr",
     "output_type": "stream",
     "text": [
      "INFO:tensorflow:Assets written to: trial/assets\n"
     ]
    },
    {
     "name": "stdout",
     "output_type": "stream",
     "text": [
      "22/22 [==============================] - 1s 32ms/step - loss: 0.8778 - accuracy: 0.7444 - val_loss: 1.0367 - val_accuracy: 0.6508\n",
      "Epoch 77/100\n",
      "14/22 [==================>...........] - ETA: 0s - loss: 0.8734 - accuracy: 0.7491\n",
      "Epoch 77: loss improved from 0.87780 to 0.87494, saving model to trial\n",
      "INFO:tensorflow:Assets written to: trial/assets\n"
     ]
    },
    {
     "name": "stderr",
     "output_type": "stream",
     "text": [
      "INFO:tensorflow:Assets written to: trial/assets\n"
     ]
    },
    {
     "name": "stdout",
     "output_type": "stream",
     "text": [
      "22/22 [==============================] - 1s 58ms/step - loss: 0.8749 - accuracy: 0.7452 - val_loss: 1.0343 - val_accuracy: 0.6552\n",
      "Epoch 78/100\n",
      "16/22 [====================>.........] - ETA: 0s - loss: 0.8734 - accuracy: 0.7455\n",
      "Epoch 78: loss improved from 0.87494 to 0.87173, saving model to trial\n",
      "INFO:tensorflow:Assets written to: trial/assets\n"
     ]
    },
    {
     "name": "stderr",
     "output_type": "stream",
     "text": [
      "INFO:tensorflow:Assets written to: trial/assets\n"
     ]
    },
    {
     "name": "stdout",
     "output_type": "stream",
     "text": [
      "22/22 [==============================] - 1s 40ms/step - loss: 0.8717 - accuracy: 0.7462 - val_loss: 1.0318 - val_accuracy: 0.6616\n",
      "Epoch 79/100\n",
      "16/22 [====================>.........] - ETA: 0s - loss: 0.8693 - accuracy: 0.7470\n",
      "Epoch 79: loss improved from 0.87173 to 0.86857, saving model to trial\n",
      "INFO:tensorflow:Assets written to: trial/assets\n"
     ]
    },
    {
     "name": "stderr",
     "output_type": "stream",
     "text": [
      "INFO:tensorflow:Assets written to: trial/assets\n"
     ]
    },
    {
     "name": "stdout",
     "output_type": "stream",
     "text": [
      "22/22 [==============================] - 1s 35ms/step - loss: 0.8686 - accuracy: 0.7467 - val_loss: 1.0293 - val_accuracy: 0.6656\n",
      "Epoch 80/100\n",
      "13/22 [================>.............] - ETA: 0s - loss: 0.8676 - accuracy: 0.7451\n",
      "Epoch 80: loss improved from 0.86857 to 0.86537, saving model to trial\n",
      "INFO:tensorflow:Assets written to: trial/assets\n"
     ]
    },
    {
     "name": "stderr",
     "output_type": "stream",
     "text": [
      "INFO:tensorflow:Assets written to: trial/assets\n"
     ]
    },
    {
     "name": "stdout",
     "output_type": "stream",
     "text": [
      "22/22 [==============================] - 1s 38ms/step - loss: 0.8654 - accuracy: 0.7461 - val_loss: 1.0263 - val_accuracy: 0.6720\n",
      "Epoch 81/100\n",
      "20/22 [==========================>...] - ETA: 0s - loss: 0.8639 - accuracy: 0.7424\n",
      "Epoch 81: loss improved from 0.86537 to 0.86177, saving model to trial\n",
      "INFO:tensorflow:Assets written to: trial/assets\n"
     ]
    },
    {
     "name": "stderr",
     "output_type": "stream",
     "text": [
      "INFO:tensorflow:Assets written to: trial/assets\n"
     ]
    },
    {
     "name": "stdout",
     "output_type": "stream",
     "text": [
      "22/22 [==============================] - 1s 37ms/step - loss: 0.8618 - accuracy: 0.7449 - val_loss: 1.0237 - val_accuracy: 0.6760\n",
      "Epoch 82/100\n",
      "16/22 [====================>.........] - ETA: 0s - loss: 0.8572 - accuracy: 0.7476\n",
      "Epoch 82: loss improved from 0.86177 to 0.85794, saving model to trial\n",
      "INFO:tensorflow:Assets written to: trial/assets\n"
     ]
    },
    {
     "name": "stderr",
     "output_type": "stream",
     "text": [
      "INFO:tensorflow:Assets written to: trial/assets\n"
     ]
    },
    {
     "name": "stdout",
     "output_type": "stream",
     "text": [
      "22/22 [==============================] - 1s 37ms/step - loss: 0.8579 - accuracy: 0.7442 - val_loss: 1.0214 - val_accuracy: 0.6720\n",
      "Epoch 83/100\n",
      "21/22 [===========================>..] - ETA: 0s - loss: 0.8542 - accuracy: 0.7440\n",
      "Epoch 83: loss improved from 0.85794 to 0.85415, saving model to trial\n",
      "INFO:tensorflow:Assets written to: trial/assets\n"
     ]
    },
    {
     "name": "stderr",
     "output_type": "stream",
     "text": [
      "INFO:tensorflow:Assets written to: trial/assets\n"
     ]
    },
    {
     "name": "stdout",
     "output_type": "stream",
     "text": [
      "22/22 [==============================] - 1s 34ms/step - loss: 0.8541 - accuracy: 0.7441 - val_loss: 1.0179 - val_accuracy: 0.6764\n",
      "Epoch 84/100\n",
      "15/22 [===================>..........] - ETA: 0s - loss: 0.8491 - accuracy: 0.7465\n",
      "Epoch 84: loss improved from 0.85415 to 0.85015, saving model to trial\n",
      "INFO:tensorflow:Assets written to: trial/assets\n"
     ]
    },
    {
     "name": "stderr",
     "output_type": "stream",
     "text": [
      "INFO:tensorflow:Assets written to: trial/assets\n"
     ]
    },
    {
     "name": "stdout",
     "output_type": "stream",
     "text": [
      "22/22 [==============================] - 1s 35ms/step - loss: 0.8502 - accuracy: 0.7444 - val_loss: 1.0140 - val_accuracy: 0.6756\n",
      "Epoch 85/100\n",
      "15/22 [===================>..........] - ETA: 0s - loss: 0.8473 - accuracy: 0.7457\n",
      "Epoch 85: loss improved from 0.85015 to 0.84634, saving model to trial\n",
      "INFO:tensorflow:Assets written to: trial/assets\n"
     ]
    },
    {
     "name": "stderr",
     "output_type": "stream",
     "text": [
      "INFO:tensorflow:Assets written to: trial/assets\n"
     ]
    },
    {
     "name": "stdout",
     "output_type": "stream",
     "text": [
      "22/22 [==============================] - 1s 39ms/step - loss: 0.8463 - accuracy: 0.7462 - val_loss: 1.0105 - val_accuracy: 0.6748\n",
      "Epoch 86/100\n",
      "14/22 [==================>...........] - ETA: 0s - loss: 0.8410 - accuracy: 0.7493\n",
      "Epoch 86: loss improved from 0.84634 to 0.84265, saving model to trial\n",
      "INFO:tensorflow:Assets written to: trial/assets\n"
     ]
    },
    {
     "name": "stderr",
     "output_type": "stream",
     "text": [
      "INFO:tensorflow:Assets written to: trial/assets\n"
     ]
    },
    {
     "name": "stdout",
     "output_type": "stream",
     "text": [
      "22/22 [==============================] - 1s 35ms/step - loss: 0.8427 - accuracy: 0.7478 - val_loss: 1.0066 - val_accuracy: 0.6680\n",
      "Epoch 87/100\n",
      "19/22 [========================>.....] - ETA: 0s - loss: 0.8385 - accuracy: 0.7479\n",
      "Epoch 87: loss improved from 0.84265 to 0.83838, saving model to trial\n",
      "INFO:tensorflow:Assets written to: trial/assets\n"
     ]
    },
    {
     "name": "stderr",
     "output_type": "stream",
     "text": [
      "INFO:tensorflow:Assets written to: trial/assets\n"
     ]
    },
    {
     "name": "stdout",
     "output_type": "stream",
     "text": [
      "22/22 [==============================] - 1s 40ms/step - loss: 0.8384 - accuracy: 0.7484 - val_loss: 1.0026 - val_accuracy: 0.6656\n",
      "Epoch 88/100\n",
      "15/22 [===================>..........] - ETA: 0s - loss: 0.8360 - accuracy: 0.7471\n",
      "Epoch 88: loss improved from 0.83838 to 0.83448, saving model to trial\n",
      "INFO:tensorflow:Assets written to: trial/assets\n"
     ]
    },
    {
     "name": "stderr",
     "output_type": "stream",
     "text": [
      "INFO:tensorflow:Assets written to: trial/assets\n"
     ]
    },
    {
     "name": "stdout",
     "output_type": "stream",
     "text": [
      "22/22 [==============================] - 1s 38ms/step - loss: 0.8345 - accuracy: 0.7492 - val_loss: 0.9992 - val_accuracy: 0.6600\n",
      "Epoch 89/100\n",
      "14/22 [==================>...........] - ETA: 0s - loss: 0.8283 - accuracy: 0.7538\n",
      "Epoch 89: loss improved from 0.83448 to 0.83046, saving model to trial\n",
      "INFO:tensorflow:Assets written to: trial/assets\n"
     ]
    },
    {
     "name": "stderr",
     "output_type": "stream",
     "text": [
      "INFO:tensorflow:Assets written to: trial/assets\n"
     ]
    },
    {
     "name": "stdout",
     "output_type": "stream",
     "text": [
      "22/22 [==============================] - 1s 35ms/step - loss: 0.8305 - accuracy: 0.7497 - val_loss: 0.9955 - val_accuracy: 0.6552\n",
      "Epoch 90/100\n",
      "15/22 [===================>..........] - ETA: 0s - loss: 0.8274 - accuracy: 0.7524\n",
      "Epoch 90: loss improved from 0.83046 to 0.82663, saving model to trial\n",
      "INFO:tensorflow:Assets written to: trial/assets\n"
     ]
    },
    {
     "name": "stderr",
     "output_type": "stream",
     "text": [
      "INFO:tensorflow:Assets written to: trial/assets\n"
     ]
    },
    {
     "name": "stdout",
     "output_type": "stream",
     "text": [
      "22/22 [==============================] - 1s 34ms/step - loss: 0.8266 - accuracy: 0.7511 - val_loss: 0.9910 - val_accuracy: 0.6552\n",
      "Epoch 91/100\n",
      "14/22 [==================>...........] - ETA: 0s - loss: 0.8253 - accuracy: 0.7492\n",
      "Epoch 91: loss improved from 0.82663 to 0.82288, saving model to trial\n",
      "INFO:tensorflow:Assets written to: trial/assets\n"
     ]
    },
    {
     "name": "stderr",
     "output_type": "stream",
     "text": [
      "INFO:tensorflow:Assets written to: trial/assets\n"
     ]
    },
    {
     "name": "stdout",
     "output_type": "stream",
     "text": [
      "22/22 [==============================] - 1s 31ms/step - loss: 0.8229 - accuracy: 0.7516 - val_loss: 0.9891 - val_accuracy: 0.6464\n",
      "Epoch 92/100\n",
      "14/22 [==================>...........] - ETA: 0s - loss: 0.8201 - accuracy: 0.7517\n",
      "Epoch 92: loss improved from 0.82288 to 0.81886, saving model to trial\n",
      "INFO:tensorflow:Assets written to: trial/assets\n"
     ]
    },
    {
     "name": "stderr",
     "output_type": "stream",
     "text": [
      "INFO:tensorflow:Assets written to: trial/assets\n"
     ]
    },
    {
     "name": "stdout",
     "output_type": "stream",
     "text": [
      "22/22 [==============================] - 1s 34ms/step - loss: 0.8189 - accuracy: 0.7532 - val_loss: 0.9850 - val_accuracy: 0.6456\n",
      "Epoch 93/100\n",
      "19/22 [========================>.....] - ETA: 0s - loss: 0.8162 - accuracy: 0.7531\n",
      "Epoch 93: loss improved from 0.81886 to 0.81521, saving model to trial\n",
      "INFO:tensorflow:Assets written to: trial/assets\n"
     ]
    },
    {
     "name": "stderr",
     "output_type": "stream",
     "text": [
      "INFO:tensorflow:Assets written to: trial/assets\n"
     ]
    },
    {
     "name": "stdout",
     "output_type": "stream",
     "text": [
      "22/22 [==============================] - 1s 53ms/step - loss: 0.8152 - accuracy: 0.7535 - val_loss: 0.9799 - val_accuracy: 0.6456\n",
      "Epoch 94/100\n",
      "18/22 [=======================>......] - ETA: 0s - loss: 0.8114 - accuracy: 0.7550\n",
      "Epoch 94: loss improved from 0.81521 to 0.81123, saving model to trial\n",
      "INFO:tensorflow:Assets written to: trial/assets\n"
     ]
    },
    {
     "name": "stderr",
     "output_type": "stream",
     "text": [
      "INFO:tensorflow:Assets written to: trial/assets\n"
     ]
    },
    {
     "name": "stdout",
     "output_type": "stream",
     "text": [
      "22/22 [==============================] - 1s 32ms/step - loss: 0.8112 - accuracy: 0.7551 - val_loss: 0.9768 - val_accuracy: 0.6444\n",
      "Epoch 95/100\n",
      "20/22 [==========================>...] - ETA: 0s - loss: 0.8082 - accuracy: 0.7548\n",
      "Epoch 95: loss improved from 0.81123 to 0.80742, saving model to trial\n",
      "INFO:tensorflow:Assets written to: trial/assets\n"
     ]
    },
    {
     "name": "stderr",
     "output_type": "stream",
     "text": [
      "INFO:tensorflow:Assets written to: trial/assets\n"
     ]
    },
    {
     "name": "stdout",
     "output_type": "stream",
     "text": [
      "22/22 [==============================] - 1s 33ms/step - loss: 0.8074 - accuracy: 0.7553 - val_loss: 0.9740 - val_accuracy: 0.6424\n",
      "Epoch 96/100\n",
      "19/22 [========================>.....] - ETA: 0s - loss: 0.8037 - accuracy: 0.7565\n",
      "Epoch 96: loss improved from 0.80742 to 0.80364, saving model to trial\n",
      "INFO:tensorflow:Assets written to: trial/assets\n"
     ]
    },
    {
     "name": "stderr",
     "output_type": "stream",
     "text": [
      "INFO:tensorflow:Assets written to: trial/assets\n"
     ]
    },
    {
     "name": "stdout",
     "output_type": "stream",
     "text": [
      "22/22 [==============================] - 1s 35ms/step - loss: 0.8036 - accuracy: 0.7560 - val_loss: 0.9695 - val_accuracy: 0.6440\n",
      "Epoch 97/100\n",
      "13/22 [================>.............] - ETA: 0s - loss: 0.7986 - accuracy: 0.7599\n",
      "Epoch 97: loss improved from 0.80364 to 0.79989, saving model to trial\n",
      "INFO:tensorflow:Assets written to: trial/assets\n"
     ]
    },
    {
     "name": "stderr",
     "output_type": "stream",
     "text": [
      "INFO:tensorflow:Assets written to: trial/assets\n"
     ]
    },
    {
     "name": "stdout",
     "output_type": "stream",
     "text": [
      "22/22 [==============================] - 1s 33ms/step - loss: 0.7999 - accuracy: 0.7568 - val_loss: 0.9667 - val_accuracy: 0.6416\n",
      "Epoch 98/100\n",
      "16/22 [====================>.........] - ETA: 0s - loss: 0.8000 - accuracy: 0.7552\n",
      "Epoch 98: loss improved from 0.79989 to 0.79621, saving model to trial\n",
      "INFO:tensorflow:Assets written to: trial/assets\n"
     ]
    },
    {
     "name": "stderr",
     "output_type": "stream",
     "text": [
      "INFO:tensorflow:Assets written to: trial/assets\n"
     ]
    },
    {
     "name": "stdout",
     "output_type": "stream",
     "text": [
      "22/22 [==============================] - 1s 39ms/step - loss: 0.7962 - accuracy: 0.7581 - val_loss: 0.9627 - val_accuracy: 0.6432\n",
      "Epoch 99/100\n",
      "20/22 [==========================>...] - ETA: 0s - loss: 0.7927 - accuracy: 0.7580\n",
      "Epoch 99: loss improved from 0.79621 to 0.79263, saving model to trial\n",
      "INFO:tensorflow:Assets written to: trial/assets\n"
     ]
    },
    {
     "name": "stderr",
     "output_type": "stream",
     "text": [
      "INFO:tensorflow:Assets written to: trial/assets\n"
     ]
    },
    {
     "name": "stdout",
     "output_type": "stream",
     "text": [
      "22/22 [==============================] - 1s 34ms/step - loss: 0.7926 - accuracy: 0.7572 - val_loss: 0.9600 - val_accuracy: 0.6436\n",
      "Epoch 100/100\n",
      "15/22 [===================>..........] - ETA: 0s - loss: 0.7912 - accuracy: 0.7566\n",
      "Epoch 100: loss improved from 0.79263 to 0.78901, saving model to trial\n",
      "INFO:tensorflow:Assets written to: trial/assets\n"
     ]
    },
    {
     "name": "stderr",
     "output_type": "stream",
     "text": [
      "INFO:tensorflow:Assets written to: trial/assets\n"
     ]
    },
    {
     "name": "stdout",
     "output_type": "stream",
     "text": [
      "22/22 [==============================] - 1s 37ms/step - loss: 0.7890 - accuracy: 0.7584 - val_loss: 0.9549 - val_accuracy: 0.6452\n"
     ]
    }
   ],
   "source": [
    "model = train_model.get_trained_model(X, s1, 3, 'trial', epochs = 100, var_reg=0.0)"
   ]
  },
  {
   "cell_type": "code",
   "execution_count": 5,
   "metadata": {},
   "outputs": [
    {
     "name": "stdout",
     "output_type": "stream",
     "text": [
      "625/625 [==============================] - 1s 1ms/step\n",
      "157/157 [==============================] - 0s 1ms/step\n",
      "625/625 [==============================] - 1s 1ms/step\n",
      "157/157 [==============================] - 0s 1ms/step\n"
     ]
    }
   ],
   "source": [
    "p_tr = get_latent.pzx(X[t==0], model, False)\n",
    "p_te = get_latent.pzx(X[t==1], model, False)\n",
    "p_tr_hard = get_latent.pzx(X[t==0], model, True)\n",
    "p_te_hard = get_latent.pzx(X[t==1], model, True)\n"
   ]
  },
  {
   "cell_type": "code",
   "execution_count": 6,
   "metadata": {},
   "outputs": [
    {
     "name": "stdout",
     "output_type": "stream",
     "text": [
      "[0.26845 0.5129  0.21865]\n",
      "[0.2018 0.127  0.6712]\n",
      "[[0.72750978 0.07681809 0.29705008]\n",
      " [0.15850251 0.92113472 0.02927052]\n",
      " [0.11398771 0.00204718 0.6736794 ]]\n"
     ]
    }
   ],
   "source": [
    "z_tr = latent_shift.sample_y(p_tr)\n",
    "\n",
    "pz_te, pz_tr = latent_shift.estimate_test_pz(z_tr, p_tr_hard, p_te_hard)\n",
    "\n",
    "p_te1 = latent_shift.recalibrate(p_te, pz_te, pz_tr)"
   ]
  },
  {
   "cell_type": "code",
   "execution_count": 7,
   "metadata": {},
   "outputs": [
    {
     "name": "stdout",
     "output_type": "stream",
     "text": [
      "Epoch 1/10\n",
      "563/563 [==============================] - 2s 2ms/step - loss: 0.3014 - accuracy: 0.8805 - val_loss: 0.2174 - val_accuracy: 0.9190\n",
      "Epoch 2/10\n",
      "563/563 [==============================] - 1s 2ms/step - loss: 0.2117 - accuracy: 0.9172 - val_loss: 0.2017 - val_accuracy: 0.9200\n",
      "Epoch 3/10\n",
      "563/563 [==============================] - 1s 2ms/step - loss: 0.1998 - accuracy: 0.9187 - val_loss: 0.1954 - val_accuracy: 0.9225\n",
      "Epoch 4/10\n",
      "563/563 [==============================] - 1s 2ms/step - loss: 0.1958 - accuracy: 0.9207 - val_loss: 0.1931 - val_accuracy: 0.9245\n",
      "Epoch 5/10\n",
      "563/563 [==============================] - 1s 2ms/step - loss: 0.1933 - accuracy: 0.9209 - val_loss: 0.1927 - val_accuracy: 0.9230\n",
      "Epoch 6/10\n",
      "563/563 [==============================] - 1s 2ms/step - loss: 0.1918 - accuracy: 0.9204 - val_loss: 0.1887 - val_accuracy: 0.9245\n",
      "Epoch 7/10\n",
      "563/563 [==============================] - 1s 2ms/step - loss: 0.1857 - accuracy: 0.9225 - val_loss: 0.1774 - val_accuracy: 0.9260\n",
      "Epoch 8/10\n",
      "563/563 [==============================] - 1s 2ms/step - loss: 0.1809 - accuracy: 0.9236 - val_loss: 0.1746 - val_accuracy: 0.9285\n",
      "Epoch 9/10\n",
      "563/563 [==============================] - 1s 2ms/step - loss: 0.1796 - accuracy: 0.9237 - val_loss: 0.1745 - val_accuracy: 0.9280\n",
      "Epoch 10/10\n",
      "563/563 [==============================] - 1s 2ms/step - loss: 0.1790 - accuracy: 0.9240 - val_loss: 0.1771 - val_accuracy: 0.9270\n"
     ]
    }
   ],
   "source": [
    "model_mix = moe.train_mixture_model(X[t==0], p_tr, y[t==0])"
   ]
  },
  {
   "cell_type": "code",
   "execution_count": 10,
   "metadata": {},
   "outputs": [
    {
     "name": "stdout",
     "output_type": "stream",
     "text": [
      "157/157 [==============================] - 0s 1ms/step - loss: 0.2398 - accuracy: 0.9018\n"
     ]
    },
    {
     "data": {
      "text/plain": [
       "[0.2398182898759842, 0.9017999768257141]"
      ]
     },
     "execution_count": 10,
     "metadata": {},
     "output_type": "execute_result"
    }
   ],
   "source": [
    "model_mix.evaluate([X[t==1], p_te1], y[t==1])"
   ]
  },
  {
   "cell_type": "code",
   "execution_count": 11,
   "metadata": {},
   "outputs": [],
   "source": [
    "import numpy as np\n",
    "import tensorflow as tf\n",
    "from tensorflow.keras.layers import Input, Dense\n",
    "from tensorflow.keras.models import Model\n",
    "from tensorflow.keras.callbacks import EarlyStopping\n",
    "from tensorflow.keras.utils import to_categorical\n",
    "from sklearn.model_selection import train_test_split\n",
    "\n",
    "def train_mixture_model(X_tr, w_tr, y_tr, epochs=10, batch_size=32, hidden_layers=[128], \n",
    "                       validation_split=0.1, patience=3, random_state=42):\n",
    "    num_components = w_tr.shape[1]\n",
    "    num_features = X_tr.shape[1]\n",
    "    num_classes = len(np.unique(y_tr))\n",
    "    \n",
    "    if num_classes == 2:\n",
    "        activation = 'sigmoid'\n",
    "        y_tr = y_tr.reshape(-1, 1)\n",
    "    else:\n",
    "        activation = 'softmax'\n",
    "        y_tr = to_categorical(y_tr)\n",
    "        \n",
    "    X_train, X_val, y_train, y_val, w_train, w_val = train_test_split(\n",
    "        X_tr, y_tr, w_tr, test_size=validation_split, random_state=random_state)\n",
    "    \n",
    "    inputs = Input(shape=(num_features,), name='input_layer')\n",
    "    weights_input = Input(shape=(num_components,), name='weights_input')\n",
    "    \n",
    "    x = inputs\n",
    "    for units in hidden_layers:\n",
    "        x = Dense(units, activation='relu')(x)\n",
    "    \n",
    "    components = []\n",
    "    for i in range(num_components):\n",
    "        if num_classes == 2:\n",
    "            output = Dense(1, activation='sigmoid')(x)\n",
    "        else:\n",
    "            output = Dense(num_classes, activation='softmax')(x)\n",
    "        components.append(output)\n",
    "    \n",
    "    if num_classes == 2:\n",
    "        combined_output = tf.reduce_sum([components[i] * weights_input[:, i:i+1] \n",
    "                                       for i in range(num_components)], axis=0)\n",
    "    else:\n",
    "        combined_output = tf.reduce_sum([components[i] * tf.expand_dims(weights_input[:, i], -1) \n",
    "                                       for i in range(num_components)], axis=0)\n",
    "    \n",
    "    model = Model(inputs=[inputs, weights_input], outputs=combined_output)\n",
    "    \n",
    "    if num_classes == 2:\n",
    "        loss = 'binary_crossentropy'\n",
    "    else:\n",
    "        loss = 'categorical_crossentropy'\n",
    "    \n",
    "    model.compile(optimizer='adam', loss=loss, metrics=['accuracy'])\n",
    "    \n",
    "    early_stopping = EarlyStopping(monitor='val_loss', patience=patience, \n",
    "                                 verbose=1, mode='min', restore_best_weights=True)\n",
    "    \n",
    "    model.fit([X_train, w_train], y_train, \n",
    "              validation_data=([X_val, w_val], y_val),\n",
    "              epochs=epochs, batch_size=batch_size, \n",
    "              verbose=1, callbacks=[early_stopping])\n",
    "    \n",
    "    return model\n",
    "\n",
    "\n",
    "def train_simple_model(X_tr, y_tr, epochs=10, batch_size=32):\n",
    "    num_features = X_tr.shape[1]\n",
    "    num_classes = len(np.unique(y_tr))\n",
    "    \n",
    "    # Prepare target data for training\n",
    "    if num_classes == 2:\n",
    "        activation = 'sigmoid'\n",
    "        y_tr = y_tr.reshape(-1, 1)  # Reshape for binary crossentropy\n",
    "    else:\n",
    "        activation = 'softmax'\n",
    "        y_tr = to_categorical(y_tr)  # One-hot encode for softmax\n",
    "\n",
    "    # Split the data into training and validation sets (90:10)\n",
    "    X_train, X_val, y_train, y_val = train_test_split(X_tr, y_tr, test_size=0.1, random_state=42)\n",
    "\n",
    "    # Input layer\n",
    "    inputs = Input(shape=(num_features,), name='input_layer')\n",
    "\n",
    "    # Define the neural network\n",
    "    x = Dense(128, activation='linear')(inputs)\n",
    "    #x = Dense(1024, activation='relu')(inputs)\n",
    "    if num_classes == 2:\n",
    "        output = Dense(1, activation='sigmoid')(x)\n",
    "    else:\n",
    "        output = Dense(num_classes, activation='softmax')(x)\n",
    "\n",
    "    # Build the model\n",
    "    model = Model(inputs=inputs, outputs=output)\n",
    "\n",
    "    # Compile the model\n",
    "    if num_classes == 2:\n",
    "        loss = 'binary_crossentropy'\n",
    "    else:\n",
    "        loss = 'categorical_crossentropy'\n",
    "    print(loss)\n",
    "    model.compile(optimizer='adam', loss=loss, metrics=['accuracy'])\n",
    "\n",
    "    # Early stopping callback to stop training when val_loss is not improving\n",
    "    early_stopping = EarlyStopping(monitor='val_loss', patience=3, verbose=1, mode='min', restore_best_weights=True)\n",
    "\n",
    "    # Train the model with validation data and early stopping\n",
    "    model.fit(X_train, y_train, validation_data=(X_val, y_val), epochs=epochs, batch_size=batch_size, verbose=1, callbacks=[early_stopping])\n",
    "\n",
    "    return model"
   ]
  },
  {
   "cell_type": "code",
   "execution_count": 13,
   "metadata": {},
   "outputs": [
    {
     "name": "stdout",
     "output_type": "stream",
     "text": [
      "binary_crossentropy\n",
      "Epoch 1/10\n",
      "563/563 [==============================] - 1s 2ms/step - loss: 0.5105 - accuracy: 0.8013 - val_loss: 0.4970 - val_accuracy: 0.8095\n",
      "Epoch 2/10\n",
      "563/563 [==============================] - 1s 1ms/step - loss: 0.5042 - accuracy: 0.8111 - val_loss: 0.4902 - val_accuracy: 0.8220\n",
      "Epoch 3/10\n",
      "563/563 [==============================] - 1s 1ms/step - loss: 0.5029 - accuracy: 0.8116 - val_loss: 0.4906 - val_accuracy: 0.8325\n",
      "Epoch 4/10\n",
      "563/563 [==============================] - 1s 1ms/step - loss: 0.5044 - accuracy: 0.8109 - val_loss: 0.4871 - val_accuracy: 0.8280\n",
      "Epoch 5/10\n",
      "563/563 [==============================] - 1s 1ms/step - loss: 0.5041 - accuracy: 0.8128 - val_loss: 0.4870 - val_accuracy: 0.8330\n",
      "Epoch 6/10\n",
      "563/563 [==============================] - 1s 1ms/step - loss: 0.5036 - accuracy: 0.8111 - val_loss: 0.4871 - val_accuracy: 0.8195\n",
      "Epoch 7/10\n",
      "563/563 [==============================] - 1s 1ms/step - loss: 0.5031 - accuracy: 0.8108 - val_loss: 0.4974 - val_accuracy: 0.8070\n",
      "Epoch 8/10\n",
      "524/563 [==========================>...] - ETA: 0s - loss: 0.5038 - accuracy: 0.8126Restoring model weights from the end of the best epoch: 5.\n",
      "563/563 [==============================] - 1s 2ms/step - loss: 0.5039 - accuracy: 0.8119 - val_loss: 0.4883 - val_accuracy: 0.8240\n",
      "Epoch 8: early stopping\n"
     ]
    }
   ],
   "source": [
    "model_erm = train_simple_model(X[t==0],y[t==0])"
   ]
  },
  {
   "cell_type": "code",
   "execution_count": 14,
   "metadata": {},
   "outputs": [
    {
     "name": "stdout",
     "output_type": "stream",
     "text": [
      "157/157 [==============================] - 0s 1ms/step - loss: 1.1515 - accuracy: 0.4522\n"
     ]
    },
    {
     "data": {
      "text/plain": [
       "[1.151541829109192, 0.4521999955177307]"
      ]
     },
     "execution_count": 14,
     "metadata": {},
     "output_type": "execute_result"
    }
   ],
   "source": [
    "model_erm.evaluate(X[t==1], y[t==1])    "
   ]
  },
  {
   "cell_type": "code",
   "execution_count": null,
   "metadata": {},
   "outputs": [],
   "source": []
  }
 ],
 "metadata": {
  "kernelspec": {
   "display_name": "Python 3",
   "language": "python",
   "name": "python3"
  },
  "language_info": {
   "codemirror_mode": {
    "name": "ipython",
    "version": 3
   },
   "file_extension": ".py",
   "mimetype": "text/x-python",
   "name": "python",
   "nbconvert_exporter": "python",
   "pygments_lexer": "ipython3",
   "version": "3.8.10"
  }
 },
 "nbformat": 4,
 "nbformat_minor": 2
}
